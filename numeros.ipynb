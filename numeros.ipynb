{
 "cells": [
  {
   "cell_type": "code",
   "execution_count": null,
   "metadata": {},
   "outputs": [],
   "source": [
    "import tensorflow as tf \n",
    "import tensorflow_datasets as tfds\n",
    "\n",
    "#descargar set de datos de MNISt (Numeros escritos a mano y etiquetados) \n",
    "datos, metadatos = tfds.load(\"mnist\", as_supervised=True, with_info=True )\n",
    "\n",
    "# obtener en variables separadas los datos de entrenamiento (60k) y pruebas en 10k\n",
    "datos_entrenamiento, datos_pruebas = datos[\"train\"], datos[\"test\"]\n",
    "\n",
    "# funcion de normalizacion para los datos (pasar valor de los pixeles de 0-255 a 0-1)\n",
    "# hacer que la red aprenda mejor y mas rapido\n",
    "def normalizar(imagenes, etiquetas):\n",
    "    imagenes = tf.cast(imagenes, tf.float32)\n",
    "    imagenes /= 255 #aqui se pasa de 0-255 a 0-1\n",
    "    return imagenes, etiquetas\n",
    "\n",
    "# normalizar los datos de entrenamiento con la funcion que hicimos\n",
    "datos_entrenamiento = datos_entrenamiento.map(normalizar)\n",
    "datos_pruebas = datos_entrenamiento.map(normalizar)\n",
    "    \n",
    "datos_entrenamiento = datos_entrenamiento.cache()\n",
    "datos_pruebas = datos_pruebas.cache()\n",
    "\n",
    "clases = ['0', '1', '2', '3', '4', '5', '6', '7', '8', '9']"
   ]
  },
  {
   "cell_type": "code",
   "execution_count": null,
   "metadata": {},
   "outputs": [],
   "source": [
    "#Codigo para mostrar imagenes del set, no es necesario ejecutarlo, solo imprime unos numeros :)\n",
    "import matplotlib.pyplot as plt\n",
    "\n",
    "plt.figure(figsize=(10,10))\n",
    "\n",
    "for i, (imagen, etiqueta) in enumerate(datos_entrenamiento.take(25)):\n",
    "  imagen = imagen.numpy().reshape((28,28))\n",
    "  plt.subplot(5,5,i+1)\n",
    "  plt.xticks([])\n",
    "  plt.yticks([])\n",
    "  plt.grid(False)\n",
    "  plt.imshow(imagen, cmap=plt.cm.binary)\n",
    "  plt.xlabel(clases[etiqueta])\n",
    "\n",
    "plt.show()  "
   ]
  },
  {
   "cell_type": "code",
   "execution_count": null,
   "metadata": {},
   "outputs": [],
   "source": [
    "# crear el modelo (modelo denso, regular, sin redes convolucionales aun)\n",
    "modelo = tf.keras.Sequential([\n",
    "    tf.keras.layers.Flatten(input_shape=(28,28,1)), #1 = blanco y negro\n",
    "    tf.keras.layers.Dense(units=50, activation=\"relu\"),\n",
    "    tf.keras.layers.Dense(units=50, activation=\"relu\"),\n",
    "    tf.keras.layers.Dense(10, activation=\"softmax\")\n",
    "])\n",
    "\n",
    "#Compilar el modelo\n",
    "modelo.compile(\n",
    "    optimizer='adam',\n",
    "    loss=tf.keras.losses.SparseCategoricalCrossentropy(),\n",
    "    metrics=['accuracy']\n",
    ")"
   ]
  },
  {
   "cell_type": "code",
   "execution_count": null,
   "metadata": {},
   "outputs": [],
   "source": [
    "#Los numeros de datos de entrenamiento y pruebas (60k y 10k)\n",
    "num_datos_entrenamiento = metadatos.splits[\"train\"].num_examples\n",
    "num_datos_pruebas = metadatos.splits[\"test\"].num_examples\n",
    "\n",
    "#Trabajar por lotes\n",
    "TAMANO_LOTE=32\n",
    "\n",
    "#Shuffle y repeat hacen que los datos esten mezclados de manera aleatoria\n",
    "#para que el entrenamiento no se aprenda las cosas en orden\n",
    "datos_entrenamiento = datos_entrenamiento.repeat().shuffle(num_datos_entrenamiento).batch(TAMANO_LOTE)\n",
    "datos_pruebas = datos_pruebas.batch(TAMANO_LOTE)"
   ]
  },
  {
   "cell_type": "code",
   "execution_count": null,
   "metadata": {},
   "outputs": [],
   "source": [
    "#Realizar el entrenamiento\n",
    "import math\n",
    "\n",
    "historial = modelo.fit(\n",
    "    datos_entrenamiento,\n",
    "    epochs=60,\n",
    "    steps_per_epoch=math.ceil(num_datos_entrenamiento/TAMANO_LOTE)\n",
    ")"
   ]
  },
  {
   "cell_type": "code",
   "execution_count": null,
   "metadata": {},
   "outputs": [],
   "source": [
    "# exportar el modelo al explorador\n",
    "# convertirlo a tensorflow.js\n",
    "modelo.save('numeros_regular.h5')\n",
    "\n",
    "#Convertirlo a tensorflow.js\n",
    "! pip install tensorflowjs\n",
    "\n",
    "!mkdir carpeta_salida\n",
    "\n",
    "!tensorflowjs_converter --input_format keras numeros_regular.h5 carpeta_salida\n"
   ]
  }
 ],
 "metadata": {
  "kernelspec": {
   "display_name": "Python 3",
   "language": "python",
   "name": "python3"
  },
  "language_info": {
   "codemirror_mode": {
    "name": "ipython",
    "version": 3
   },
   "file_extension": ".py",
   "mimetype": "text/x-python",
   "name": "python",
   "nbconvert_exporter": "python",
   "pygments_lexer": "ipython3",
   "version": "3.12.4"
  }
 },
 "nbformat": 4,
 "nbformat_minor": 2
}
